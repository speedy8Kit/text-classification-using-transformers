{
 "cells": [
  {
   "cell_type": "markdown",
   "id": "64acc7fb-59de-4ebc-b82f-afb53cc852d2",
   "metadata": {
    "jp-MarkdownHeadingCollapsed": true
   },
   "source": [
    "# Imports"
   ]
  },
  {
   "cell_type": "code",
   "execution_count": 1,
   "id": "3379e5ef-2708-48c0-a8ed-95eda57a8aea",
   "metadata": {},
   "outputs": [],
   "source": [
    "import numpy as np\n",
    "import pandas as pd\n",
    "import transformers\n",
    "import tensorflow as tf\n",
    "import tqdm.notebook as tqdm\n",
    "import sklearn.model_selection\n",
    "import matplotlib.pyplot as plt\n",
    "import  scipy\n",
    "import pickle"
   ]
  },
  {
   "cell_type": "markdown",
   "id": "3588f5af-a33c-4638-90d8-5cb912535790",
   "metadata": {
    "jp-MarkdownHeadingCollapsed": true
   },
   "source": [
    "# Data"
   ]
  },
  {
   "cell_type": "code",
   "execution_count": 2,
   "metadata": {},
   "outputs": [],
   "source": [
    "SAMPLE_SIZE = int(2e5)"
   ]
  },
  {
   "cell_type": "markdown",
   "id": "c468a19b-1395-4afc-b0c5-a799160ea671",
   "metadata": {},
   "source": [
    "Load and prepare your dataset. Dataset should have at least 10k samples in it. Each dataset cannot be used by more than two students."
   ]
  },
  {
   "cell_type": "markdown",
   "metadata": {},
   "source": [
    "## Create sample"
   ]
  },
  {
   "cell_type": "code",
   "execution_count": 3,
   "id": "27724773-5172-4a0f-87ab-6878341a7ab9",
   "metadata": {},
   "outputs": [],
   "source": [
    "data_frame = pd.read_csv('yelp_review_full_csv/data.csv', header=None, index_col=None)\n",
    "data_frame.columns = ['Label', 'Text']\n",
    "data_frame[\"Label\"] -= 1"
   ]
  },
  {
   "cell_type": "code",
   "execution_count": 4,
   "metadata": {},
   "outputs": [],
   "source": [
    "data_frame['Text_len'] = data_frame['Text'].str.split().map(lambda x: len(x))"
   ]
  },
  {
   "cell_type": "code",
   "execution_count": 5,
   "metadata": {},
   "outputs": [
    {
     "data": {
      "text/plain": [
       "<AxesSubplot: >"
      ]
     },
     "execution_count": 5,
     "metadata": {},
     "output_type": "execute_result"
    },
    {
     "data": {
      "image/png": "[encoded data removed]",
      "text/plain": [
       "<Figure size 640x480 with 1 Axes>"
      ]
     },
     "metadata": {},
     "output_type": "display_data"
    }
   ],
   "source": [
    "data_frame['Text_len'].hist()"
   ]
  },
  {
   "cell_type": "code",
   "execution_count": 6,
   "metadata": {},
   "outputs": [
    {
     "data": {
      "text/plain": [
       "(79.0, 259870)"
      ]
     },
     "execution_count": 6,
     "metadata": {},
     "output_type": "execute_result"
    }
   ],
   "source": [
    "max_text_len = np.percentile(data_frame['Text_len'], np.min([int(SAMPLE_SIZE / data_frame.shape[0] * 100 + 10), 100]))\n",
    "max_text_len, np.sum(data_frame['Text_len'] < max_text_len)"
   ]
  },
  {
   "cell_type": "code",
   "execution_count": 7,
   "metadata": {},
   "outputs": [],
   "source": [
    "data_frame = data_frame[data_frame['Text_len'] < max_text_len]"
   ]
  },
  {
   "cell_type": "code",
   "execution_count": 8,
   "metadata": {},
   "outputs": [
    {
     "data": {
      "text/html": [
       "<div>\n",
       "<style scoped>\n",
       "    .dataframe tbody tr th:only-of-type {\n",
       "        vertical-align: middle;\n",
       "    }\n",
       "\n",
       "    .dataframe tbody tr th {\n",
       "        vertical-align: top;\n",
       "    }\n",
       "\n",
       "    .dataframe thead th {\n",
       "        text-align: right;\n",
       "    }\n",
       "</style>\n",
       "<table border=\"1\" class=\"dataframe\">\n",
       "  <thead>\n",
       "    <tr style=\"text-align: right;\">\n",
       "      <th></th>\n",
       "      <th>Label</th>\n",
       "      <th>Text</th>\n",
       "      <th>Text_len</th>\n",
       "    </tr>\n",
       "  </thead>\n",
       "  <tbody>\n",
       "    <tr>\n",
       "      <th>3</th>\n",
       "      <td>3</td>\n",
       "      <td>Got a letter in the mail last week that said D...</td>\n",
       "      <td>53</td>\n",
       "    </tr>\n",
       "    <tr>\n",
       "      <th>5</th>\n",
       "      <td>4</td>\n",
       "      <td>Top notch doctor in a top notch practice. Can'...</td>\n",
       "      <td>62</td>\n",
       "    </tr>\n",
       "    <tr>\n",
       "      <th>6</th>\n",
       "      <td>4</td>\n",
       "      <td>Dr. Eric Goldberg is a fantastic doctor who ha...</td>\n",
       "      <td>67</td>\n",
       "    </tr>\n",
       "    <tr>\n",
       "      <th>8</th>\n",
       "      <td>1</td>\n",
       "      <td>Wing sauce is like water. Pretty much a lot of...</td>\n",
       "      <td>60</td>\n",
       "    </tr>\n",
       "    <tr>\n",
       "      <th>12</th>\n",
       "      <td>3</td>\n",
       "      <td>I drove by yesterday to get a sneak peak.  It ...</td>\n",
       "      <td>73</td>\n",
       "    </tr>\n",
       "    <tr>\n",
       "      <th>...</th>\n",
       "      <td>...</td>\n",
       "      <td>...</td>\n",
       "      <td>...</td>\n",
       "    </tr>\n",
       "    <tr>\n",
       "      <th>649993</th>\n",
       "      <td>4</td>\n",
       "      <td>We had Jason and the guys do our yard clean up...</td>\n",
       "      <td>75</td>\n",
       "    </tr>\n",
       "    <tr>\n",
       "      <th>649994</th>\n",
       "      <td>4</td>\n",
       "      <td>Wow, what a warm hearted honest and nice hard ...</td>\n",
       "      <td>35</td>\n",
       "    </tr>\n",
       "    <tr>\n",
       "      <th>649995</th>\n",
       "      <td>4</td>\n",
       "      <td>I had a sprinkler that was gushing... pipe bro...</td>\n",
       "      <td>61</td>\n",
       "    </tr>\n",
       "    <tr>\n",
       "      <th>649996</th>\n",
       "      <td>0</td>\n",
       "      <td>Phone calls always go to voicemail and message...</td>\n",
       "      <td>16</td>\n",
       "    </tr>\n",
       "    <tr>\n",
       "      <th>649998</th>\n",
       "      <td>4</td>\n",
       "      <td>I was able to once again rely on Yelp to provi...</td>\n",
       "      <td>71</td>\n",
       "    </tr>\n",
       "  </tbody>\n",
       "</table>\n",
       "<p>259870 rows × 3 columns</p>\n",
       "</div>"
      ],
      "text/plain": [
       "        Label                                               Text  Text_len\n",
       "3           3  Got a letter in the mail last week that said D...        53\n",
       "5           4  Top notch doctor in a top notch practice. Can'...        62\n",
       "6           4  Dr. Eric Goldberg is a fantastic doctor who ha...        67\n",
       "8           1  Wing sauce is like water. Pretty much a lot of...        60\n",
       "12          3  I drove by yesterday to get a sneak peak.  It ...        73\n",
       "...       ...                                                ...       ...\n",
       "649993      4  We had Jason and the guys do our yard clean up...        75\n",
       "649994      4  Wow, what a warm hearted honest and nice hard ...        35\n",
       "649995      4  I had a sprinkler that was gushing... pipe bro...        61\n",
       "649996      0  Phone calls always go to voicemail and message...        16\n",
       "649998      4  I was able to once again rely on Yelp to provi...        71\n",
       "\n",
       "[259870 rows x 3 columns]"
      ]
     },
     "execution_count": 8,
     "metadata": {},
     "output_type": "execute_result"
    }
   ],
   "source": [
    "data_frame"
   ]
  },
  {
   "cell_type": "code",
   "execution_count": 9,
   "metadata": {},
   "outputs": [],
   "source": [
    "a = []\n",
    "for i in data_frame['Label'].unique():\n",
    "    a.append(data_frame[data_frame['Label']==i][:(SAMPLE_SIZE // len(data_frame['Label'].unique()))])\n",
    "data_frame = pd.concat(a)\n",
    "data_frame = data_frame.sample(frac=1)\n",
    "data_frame = data_frame.reset_index()\n",
    "del data_frame['index']"
   ]
  },
  {
   "cell_type": "code",
   "execution_count": 10,
   "metadata": {},
   "outputs": [],
   "source": [
    "with open(f'data{SAMPLE_SIZE}_df.pic', 'wb') as f: \n",
    "    pickle.dump(data_frame, f)"
   ]
  },
  {
   "cell_type": "markdown",
   "metadata": {},
   "source": [
    "## check sample"
   ]
  },
  {
   "cell_type": "code",
   "execution_count": 11,
   "metadata": {},
   "outputs": [],
   "source": [
    "# with open(f'data{SAMPLE_SIZE}_df.pic', 'rb') as f:\n",
    "#     data_frame = pickle.load(f)"
   ]
  },
  {
   "cell_type": "code",
   "execution_count": 12,
   "metadata": {},
   "outputs": [
    {
     "data": {
      "text/html": [
       "<div>\n",
       "<style scoped>\n",
       "    .dataframe tbody tr th:only-of-type {\n",
       "        vertical-align: middle;\n",
       "    }\n",
       "\n",
       "    .dataframe tbody tr th {\n",
       "        vertical-align: top;\n",
       "    }\n",
       "\n",
       "    .dataframe thead th {\n",
       "        text-align: right;\n",
       "    }\n",
       "</style>\n",
       "<table border=\"1\" class=\"dataframe\">\n",
       "  <thead>\n",
       "    <tr style=\"text-align: right;\">\n",
       "      <th></th>\n",
       "      <th>Label</th>\n",
       "      <th>Text</th>\n",
       "      <th>Text_len</th>\n",
       "    </tr>\n",
       "  </thead>\n",
       "  <tbody>\n",
       "    <tr>\n",
       "      <th>0</th>\n",
       "      <td>1</td>\n",
       "      <td>Normally my fav place however now have new peo...</td>\n",
       "      <td>67</td>\n",
       "    </tr>\n",
       "    <tr>\n",
       "      <th>1</th>\n",
       "      <td>3</td>\n",
       "      <td>Love this place. My daughter loves it as well....</td>\n",
       "      <td>40</td>\n",
       "    </tr>\n",
       "    <tr>\n",
       "      <th>2</th>\n",
       "      <td>2</td>\n",
       "      <td>Hotel is older, however, the price was right a...</td>\n",
       "      <td>32</td>\n",
       "    </tr>\n",
       "    <tr>\n",
       "      <th>3</th>\n",
       "      <td>3</td>\n",
       "      <td>cool little pub just down the street from the ...</td>\n",
       "      <td>28</td>\n",
       "    </tr>\n",
       "    <tr>\n",
       "      <th>4</th>\n",
       "      <td>1</td>\n",
       "      <td>restaurant week menu not great. very small sal...</td>\n",
       "      <td>58</td>\n",
       "    </tr>\n",
       "    <tr>\n",
       "      <th>...</th>\n",
       "      <td>...</td>\n",
       "      <td>...</td>\n",
       "      <td>...</td>\n",
       "    </tr>\n",
       "    <tr>\n",
       "      <th>199995</th>\n",
       "      <td>1</td>\n",
       "      <td>This Starbucks is pretty slow and unfriendly. ...</td>\n",
       "      <td>63</td>\n",
       "    </tr>\n",
       "    <tr>\n",
       "      <th>199996</th>\n",
       "      <td>0</td>\n",
       "      <td>I will never get gas at this disgustingly dirt...</td>\n",
       "      <td>55</td>\n",
       "    </tr>\n",
       "    <tr>\n",
       "      <th>199997</th>\n",
       "      <td>3</td>\n",
       "      <td>I've just arrived back from having the BBQ pul...</td>\n",
       "      <td>72</td>\n",
       "    </tr>\n",
       "    <tr>\n",
       "      <th>199998</th>\n",
       "      <td>4</td>\n",
       "      <td>It's Vegas. Ain't nothing wrong with getting h...</td>\n",
       "      <td>53</td>\n",
       "    </tr>\n",
       "    <tr>\n",
       "      <th>199999</th>\n",
       "      <td>4</td>\n",
       "      <td>The only place I go to for sweet and sour chic...</td>\n",
       "      <td>14</td>\n",
       "    </tr>\n",
       "  </tbody>\n",
       "</table>\n",
       "<p>200000 rows × 3 columns</p>\n",
       "</div>"
      ],
      "text/plain": [
       "        Label                                               Text  Text_len\n",
       "0           1  Normally my fav place however now have new peo...        67\n",
       "1           3  Love this place. My daughter loves it as well....        40\n",
       "2           2  Hotel is older, however, the price was right a...        32\n",
       "3           3  cool little pub just down the street from the ...        28\n",
       "4           1  restaurant week menu not great. very small sal...        58\n",
       "...       ...                                                ...       ...\n",
       "199995      1  This Starbucks is pretty slow and unfriendly. ...        63\n",
       "199996      0  I will never get gas at this disgustingly dirt...        55\n",
       "199997      3  I've just arrived back from having the BBQ pul...        72\n",
       "199998      4  It's Vegas. Ain't nothing wrong with getting h...        53\n",
       "199999      4  The only place I go to for sweet and sour chic...        14\n",
       "\n",
       "[200000 rows x 3 columns]"
      ]
     },
     "execution_count": 12,
     "metadata": {},
     "output_type": "execute_result"
    }
   ],
   "source": [
    "data_frame"
   ]
  },
  {
   "cell_type": "code",
   "execution_count": 13,
   "metadata": {},
   "outputs": [
    {
     "data": {
      "image/png": "[encoded data removed]",
      "text/plain": [
       "<Figure size 640x480 with 1 Axes>"
      ]
     },
     "metadata": {},
     "output_type": "display_data"
    }
   ],
   "source": [
    "data_frame['Label'].hist();"
   ]
  },
  {
   "cell_type": "code",
   "execution_count": 14,
   "metadata": {},
   "outputs": [
    {
     "data": {
      "image/png": "[encoded data removed]",
      "text/plain": [
       "<Figure size 640x480 with 1 Axes>"
      ]
     },
     "metadata": {},
     "output_type": "display_data"
    }
   ],
   "source": [
    "plt.hist([data_frame[data_frame['Label']==i]['Text_len'] for i in data_frame['Label'].unique()]);"
   ]
  },
  {
   "cell_type": "markdown",
   "id": "714bddcc-c56d-4e61-9147-054f5d7f8e7e",
   "metadata": {
    "jp-MarkdownHeadingCollapsed": true
   },
   "source": [
    "# Backbone"
   ]
  },
  {
   "cell_type": "code",
   "execution_count": 15,
   "metadata": {},
   "outputs": [],
   "source": [
    "TRANSFORMER_NAME = 'facebook/bart-base'\n",
    "MODEL_NAME = 'facebook_bart_base'"
   ]
  },
  {
   "cell_type": "markdown",
   "id": "c21a2f49-08a6-479a-8db7-a52d4db40d56",
   "metadata": {},
   "source": [
    "Load pretrained model from Hugging Face (or some other model repository if it's more convenient). Model should be trained on Feature Extraction task."
   ]
  },
  {
   "cell_type": "code",
   "execution_count": 16,
   "id": "d111bc81-dfb4-47fb-b3d8-42388b84a8cc",
   "metadata": {},
   "outputs": [
    {
     "name": "stderr",
     "output_type": "stream",
     "text": [
      "All PyTorch model weights were used when initializing TFBartModel.\n",
      "\n",
      "All the weights of TFBartModel were initialized from the PyTorch model.\n",
      "If your task is similar to the task the model of the checkpoint was trained on, you can already use TFBartModel for predictions without further training.\n"
     ]
    }
   ],
   "source": [
    "backbone = transformers.TFAutoModel.from_pretrained(TRANSFORMER_NAME)"
   ]
  },
  {
   "cell_type": "markdown",
   "id": "4b81337a-c06e-4b33-9dff-61ff0c6858c9",
   "metadata": {},
   "source": [
    "Load tokenizer to be used with the model"
   ]
  },
  {
   "cell_type": "code",
   "execution_count": 17,
   "id": "4c7e98fb-a356-463d-a856-9b011efdcca1",
   "metadata": {},
   "outputs": [],
   "source": [
    "tokenizer = transformers.AutoTokenizer.from_pretrained(TRANSFORMER_NAME)"
   ]
  },
  {
   "cell_type": "code",
   "execution_count": 18,
   "metadata": {},
   "outputs": [
    {
     "name": "stdout",
     "output_type": "stream",
     "text": [
      "Model: \"tf_bart_model\"\n",
      "_________________________________________________________________\n",
      " Layer (type)                Output Shape              Param #   \n",
      "=================================================================\n",
      " model (TFBartMainLayer)     multiple                  139420416 \n",
      "                                                                 \n",
      "=================================================================\n",
      "Total params: 139420416 (531.85 MB)\n",
      "Trainable params: 139420416 (531.85 MB)\n",
      "Non-trainable params: 0 (0.00 Byte)\n",
      "_________________________________________________________________\n"
     ]
    }
   ],
   "source": [
    "backbone.summary()"
   ]
  },
  {
   "cell_type": "markdown",
   "id": "c045f3c1-faf9-41fc-af88-a4f49c97ac13",
   "metadata": {
    "jp-MarkdownHeadingCollapsed": true
   },
   "source": [
    "# Feature extraction"
   ]
  },
  {
   "cell_type": "markdown",
   "id": "1025d0d6-3b43-440a-8791-27b3e208e415",
   "metadata": {},
   "source": [
    "Since we will not be training the backbone, extract features from your dataset."
   ]
  },
  {
   "cell_type": "markdown",
   "id": "75fb0bf5-6e28-49fa-a0c3-e5b3fd51e7f7",
   "metadata": {},
   "source": [
    "Tokenize all your sequences. Truncate/pad the squences for convenience. If the sequences are too large to be stored in memory, lazily save them on disk."
   ]
  },
  {
   "cell_type": "code",
   "execution_count": 19,
   "id": "e3fcfd80-cfba-45e2-8767-05bd5169b814",
   "metadata": {},
   "outputs": [
    {
     "data": {
      "application/vnd.jupyter.widget-view+json": {
       "model_id": "0afb912fc858476e8153df60382cbc04",
       "version_major": 2,
       "version_minor": 0
      },
      "text/plain": [
       "  0%|          | 0/200000 [00:00<?, ?it/s]"
      ]
     },
     "metadata": {},
     "output_type": "display_data"
    },
    {
     "name": "stderr",
     "output_type": "stream",
     "text": [
      "Token indices sequence length is longer than the specified maximum sequence length for this model (1810 > 1024). Running this sequence through the model will result in indexing errors\n"
     ]
    }
   ],
   "source": [
    "tokenize_seq = []\n",
    "\n",
    "for text in tqdm.tqdm(data_frame['Text']):\n",
    "    tokenize_seq.append(tokenizer(text)['input_ids'])"
   ]
  },
  {
   "cell_type": "code",
   "execution_count": 20,
   "metadata": {},
   "outputs": [
    {
     "data": {
      "image/png": "[encoded data removed]",
      "text/plain": [
       "<Figure size 640x480 with 1 Axes>"
      ]
     },
     "metadata": {},
     "output_type": "display_data"
    }
   ],
   "source": [
    "plt.hist([len(tok) for tok in tokenize_seq], 200);"
   ]
  },
  {
   "cell_type": "code",
   "execution_count": 21,
   "metadata": {},
   "outputs": [
    {
     "data": {
      "text/plain": [
       "119"
      ]
     },
     "execution_count": 21,
     "metadata": {},
     "output_type": "execute_result"
    }
   ],
   "source": [
    "num_token = int(np.percentile([len(tok) for tok in tokenize_seq], 99))\n",
    "num_token"
   ]
  },
  {
   "cell_type": "code",
   "execution_count": 22,
   "metadata": {},
   "outputs": [],
   "source": [
    "X = tf.keras.preprocessing.sequence.pad_sequences(\n",
    "    tokenize_seq,\n",
    "    maxlen=num_token,\n",
    "    truncating='post',\n",
    "    padding='post',\n",
    "    value=tokenizer.pad_token_id)"
   ]
  },
  {
   "cell_type": "code",
   "execution_count": 23,
   "metadata": {},
   "outputs": [],
   "source": [
    "text_dataset = tf.data.Dataset.from_tensor_slices(X).batch(64)"
   ]
  },
  {
   "cell_type": "markdown",
   "id": "4a2b4b64-ee2e-4a2a-8d81-161f8bf1aae4",
   "metadata": {},
   "source": [
    "Run the backbone on the sequences and save the extracted features. The extracted features should be a vector containing information about the whole text. If the features are too large to be stored in memory, lazily save them on disk."
   ]
  },
  {
   "cell_type": "code",
   "execution_count": 24,
   "id": "4c81f850-a0ca-4951-8677-0597aedb21b6",
   "metadata": {},
   "outputs": [
    {
     "data": {
      "application/vnd.jupyter.widget-view+json": {
       "model_id": "77a24a874e27471aaafa33738dcf4691",
       "version_major": 2,
       "version_minor": 0
      },
      "text/plain": [
       "  0%|          | 0/3125 [00:00<?, ?it/s]"
      ]
     },
     "metadata": {},
     "output_type": "display_data"
    }
   ],
   "source": [
    "features = []\n",
    "for data in tqdm.tqdm(text_dataset):\n",
    "    features.extend(tf.math.reduce_mean(backbone(data).last_hidden_state, axis=1))"
   ]
  },
  {
   "cell_type": "code",
   "execution_count": 25,
   "metadata": {},
   "outputs": [],
   "source": [
    "features = np.array(features)"
   ]
  },
  {
   "cell_type": "code",
   "execution_count": 26,
   "metadata": {},
   "outputs": [
    {
     "data": {
      "text/plain": [
       "(200000, 768)"
      ]
     },
     "execution_count": 26,
     "metadata": {},
     "output_type": "execute_result"
    }
   ],
   "source": [
    "features.shape"
   ]
  },
  {
   "cell_type": "code",
   "execution_count": 27,
   "metadata": {},
   "outputs": [],
   "source": [
    "with open(f'fetures_data/{MODEL_NAME}_features_ar_data{SAMPLE_SIZE}.pic', 'wb') as f:\n",
    "    pickle.dump(features, f)"
   ]
  },
  {
   "cell_type": "code",
   "execution_count": 28,
   "metadata": {},
   "outputs": [
    {
     "data": {
      "text/plain": [
       "(200000, 768)"
      ]
     },
     "execution_count": 28,
     "metadata": {},
     "output_type": "execute_result"
    }
   ],
   "source": [
    "features.shape"
   ]
  },
  {
   "cell_type": "code",
   "execution_count": 29,
   "metadata": {},
   "outputs": [
    {
     "data": {
      "text/plain": [
       "(768,)"
      ]
     },
     "execution_count": 29,
     "metadata": {},
     "output_type": "execute_result"
    }
   ],
   "source": [
    "features[0].shape"
   ]
  },
  {
   "cell_type": "markdown",
   "id": "2543fcff-46b0-4c05-b297-c3102f998205",
   "metadata": {
    "jp-MarkdownHeadingCollapsed": true
   },
   "source": [
    "# Prepare train/test data"
   ]
  },
  {
   "cell_type": "code",
   "execution_count": 30,
   "metadata": {},
   "outputs": [],
   "source": [
    "# with open(f'fetures_data/{MODEL_NAME}_features_ar_data{SAMPLE_SIZE}.pic', 'rb') as f:\n",
    "#     features = pickle.load(f)"
   ]
  },
  {
   "cell_type": "code",
   "execution_count": 31,
   "metadata": {},
   "outputs": [],
   "source": [
    "# features = X"
   ]
  },
  {
   "cell_type": "code",
   "execution_count": 32,
   "metadata": {},
   "outputs": [],
   "source": [
    "y = np.array(data_frame['Label'])"
   ]
  },
  {
   "cell_type": "markdown",
   "id": "2c985c7d-9123-477e-9988-15ff5a7b26eb",
   "metadata": {},
   "source": [
    "Split your data (extracted features and labels) into train and test subsets."
   ]
  },
  {
   "cell_type": "code",
   "execution_count": 33,
   "id": "5460c05a-f5e7-4935-a6ff-074ca21fa01b",
   "metadata": {},
   "outputs": [],
   "source": [
    "X_train, X_test, y_train, y_test = sklearn.model_selection.train_test_split(features, y)"
   ]
  },
  {
   "cell_type": "markdown",
   "id": "b1a65639-50d0-4f89-8bfe-33b7a483e406",
   "metadata": {},
   "source": [
    "Prepare `tf.data.Dataset` or some other way for the data to be used during training."
   ]
  },
  {
   "cell_type": "code",
   "execution_count": 34,
   "id": "07849c2e-c7d1-4620-9590-962fa554ed8f",
   "metadata": {},
   "outputs": [],
   "source": [
    "X_train_dataset = tf.data.Dataset.from_tensor_slices(X_train)\n",
    "y_train_dataset = tf.data.Dataset.from_tensor_slices(y_train)\n",
    "X_test_dataset = tf.data.Dataset.from_tensor_slices(X_test)\n",
    "y_test_dataset = tf.data.Dataset.from_tensor_slices(y_test)\n",
    "\n",
    "train_dataset = tf.data.Dataset.zip((X_train_dataset, y_train_dataset)).batch(64)\n",
    "test_dataset = tf.data.Dataset.zip((X_test_dataset, y_test_dataset)).batch(64)"
   ]
  },
  {
   "cell_type": "markdown",
   "id": "e8f74abd-ce1a-4a68-be6c-89b1abd0caa5",
   "metadata": {
    "jp-MarkdownHeadingCollapsed": true
   },
   "source": [
    "# Build the model"
   ]
  },
  {
   "cell_type": "markdown",
   "id": "78885e31-c91e-4ee5-acbf-00a107069da9",
   "metadata": {},
   "source": [
    "Build a simple model. The model should accept an extracted feature vector and return a vector of class logits (or probabilities). Model should only have a couple (or even 1) layer with weights."
   ]
  },
  {
   "cell_type": "code",
   "execution_count": 35,
   "id": "4522f1a0-1555-4dcd-9117-3e975d6f781b",
   "metadata": {},
   "outputs": [],
   "source": [
    "inputs = tf.keras.layers.Input(features.shape[1], name='input', dtype=tf.int32)\n",
    "x = tf.keras.layers.Dense(512, name='Dense1', activation='relu')(inputs)\n",
    "x = tf.keras.layers.Dense(len(data_frame['Label'].unique()), name='prediction')(x)\n",
    "model = tf.keras.Model(inputs=inputs, outputs=x, name='MyModel')"
   ]
  },
  {
   "cell_type": "code",
   "execution_count": 36,
   "metadata": {},
   "outputs": [
    {
     "name": "stdout",
     "output_type": "stream",
     "text": [
      "Model: \"MyModel\"\n",
      "_________________________________________________________________\n",
      " Layer (type)                Output Shape              Param #   \n",
      "=================================================================\n",
      " input (InputLayer)          [(None, 768)]             0         \n",
      "                                                                 \n",
      " Dense1 (Dense)              (None, 512)               393728    \n",
      "                                                                 \n",
      " prediction (Dense)          (None, 5)                 2565      \n",
      "                                                                 \n",
      "=================================================================\n",
      "Total params: 396293 (1.51 MB)\n",
      "Trainable params: 396293 (1.51 MB)\n",
      "Non-trainable params: 0 (0.00 Byte)\n",
      "_________________________________________________________________\n"
     ]
    }
   ],
   "source": [
    "model.summary()"
   ]
  },
  {
   "cell_type": "markdown",
   "id": "a5cacc4e-9876-40ff-8cd0-f1a4bfbc5c1a",
   "metadata": {},
   "source": [
    "Compile the model. Choose loss and metrics."
   ]
  },
  {
   "cell_type": "code",
   "execution_count": 37,
   "id": "ad74527b-c793-40da-af8e-66172db170f1",
   "metadata": {},
   "outputs": [],
   "source": [
    "model.compile(\n",
    "    loss=tf.keras.losses.SparseCategoricalCrossentropy(from_logits=True),\n",
    "    optimizer='adam',\n",
    "    metrics='accuracy')"
   ]
  },
  {
   "cell_type": "markdown",
   "id": "3e08006d-be0a-4828-aca9-a9f37218b8de",
   "metadata": {
    "jp-MarkdownHeadingCollapsed": true
   },
   "source": [
    "# Train the model"
   ]
  },
  {
   "cell_type": "code",
   "execution_count": 47,
   "id": "6a30787b-7ac4-4dd3-9ea5-62c94e9aa628",
   "metadata": {},
   "outputs": [
    {
     "name": "stdout",
     "output_type": "stream",
     "text": [
      "Epoch 1/10\n",
      "2344/2344 [==============================] - 10s 4ms/step - loss: 0.7613 - accuracy: 0.6882 - val_loss: 1.5234 - val_accuracy: 0.4636\n",
      "Epoch 2/10\n",
      "2344/2344 [==============================] - 10s 4ms/step - loss: 0.7251 - accuracy: 0.7055 - val_loss: 1.5834 - val_accuracy: 0.4643\n",
      "Epoch 3/10\n",
      "2344/2344 [==============================] - 10s 4ms/step - loss: 0.6928 - accuracy: 0.7199 - val_loss: 1.6338 - val_accuracy: 0.4658\n",
      "Epoch 4/10\n",
      "2344/2344 [==============================] - 10s 4ms/step - loss: 0.6642 - accuracy: 0.7312 - val_loss: 1.6872 - val_accuracy: 0.4645\n",
      "Epoch 5/10\n",
      "2344/2344 [==============================] - 10s 4ms/step - loss: 0.6384 - accuracy: 0.7428 - val_loss: 1.7603 - val_accuracy: 0.4633\n",
      "Epoch 6/10\n",
      "2344/2344 [==============================] - 10s 4ms/step - loss: 0.6177 - accuracy: 0.7506 - val_loss: 1.8467 - val_accuracy: 0.4581\n",
      "Epoch 7/10\n",
      "2344/2344 [==============================] - 11s 5ms/step - loss: 0.5967 - accuracy: 0.7584 - val_loss: 1.9341 - val_accuracy: 0.4553\n",
      "Epoch 8/10\n",
      "2344/2344 [==============================] - 10s 4ms/step - loss: 0.5801 - accuracy: 0.7653 - val_loss: 2.0047 - val_accuracy: 0.4562\n",
      "Epoch 9/10\n",
      "2344/2344 [==============================] - 10s 4ms/step - loss: 0.5615 - accuracy: 0.7737 - val_loss: 2.0981 - val_accuracy: 0.4509\n",
      "Epoch 10/10\n",
      "2344/2344 [==============================] - 10s 4ms/step - loss: 0.5473 - accuracy: 0.7797 - val_loss: 2.1583 - val_accuracy: 0.4521\n"
     ]
    },
    {
     "data": {
      "text/plain": [
       "<keras.src.callbacks.History at 0x1c50bc9e950>"
      ]
     },
     "execution_count": 47,
     "metadata": {},
     "output_type": "execute_result"
    }
   ],
   "source": [
    "model.fit(train_dataset, validation_data=test_dataset, epochs=10)"
   ]
  },
  {
   "cell_type": "markdown",
   "id": "3980f062-220a-4a11-b9f5-3b0e41804533",
   "metadata": {
    "jp-MarkdownHeadingCollapsed": true
   },
   "source": [
    "# Evaluation"
   ]
  },
  {
   "cell_type": "markdown",
   "id": "4b6008a2-9882-44f2-946c-23827aa5fa49",
   "metadata": {},
   "source": [
    "Evalute the model on test data."
   ]
  },
  {
   "cell_type": "code",
   "execution_count": 49,
   "id": "1b4ddf9e-5710-4c7f-ac58-4d94742c0d14",
   "metadata": {},
   "outputs": [
    {
     "name": "stdout",
     "output_type": "stream",
     "text": [
      "1563/1563 [==============================] - 1s 941us/step\n"
     ]
    }
   ],
   "source": [
    "predict = model.predict(X_test).argmax(axis=-1)"
   ]
  },
  {
   "cell_type": "markdown",
   "id": "c96f4ae8-6b6c-4c4d-94dc-be8062b7e982",
   "metadata": {},
   "source": [
    "Plot confusion matrix."
   ]
  },
  {
   "cell_type": "code",
   "execution_count": 48,
   "id": "b092eae2-5f9a-42cc-ba04-ae9b9f67df7e",
   "metadata": {},
   "outputs": [
    {
     "data": {
      "text/plain": [
       "<sklearn.metrics._plot.confusion_matrix.ConfusionMatrixDisplay at 0x1c5b041f310>"
      ]
     },
     "execution_count": 48,
     "metadata": {},
     "output_type": "execute_result"
    },
    {
     "data": {
      "image/png": "[encoded data removed]",
      "text/plain": [
       "<Figure size 640x480 with 2 Axes>"
      ]
     },
     "metadata": {},
     "output_type": "display_data"
    }
   ],
   "source": [
    "sklearn.metrics.ConfusionMatrixDisplay.from_predictions(y_test, predict)"
   ]
  },
  {
   "cell_type": "markdown",
   "id": "6997d559-de7f-4e67-96f1-85df047dcbb7",
   "metadata": {},
   "source": [
    "Write a function to classify a piece of text."
   ]
  },
  {
   "cell_type": "code",
   "execution_count": 55,
   "id": "21a748d8-b5a2-4f90-a3d8-ee36d69d34fb",
   "metadata": {},
   "outputs": [],
   "source": [
    "def classify_text(text: str) -> tuple[int | str, np.ndarray]:\n",
    "    '''Classifes the given `text` using the trained model.\n",
    "\n",
    "    Arguments:\n",
    "        text: text to be classified\n",
    "\n",
    "    Return:\n",
    "        The assigned label and probabilites of all labels'''\n",
    "    tokens = [tokenizer(text)['input_ids']]\n",
    "    text_dataset = tf.data.Dataset.from_tensor_slices(tokens).batch(1)\n",
    "\n",
    "    for data in text_dataset:\n",
    "        features = tf.math.reduce_mean(backbone(data).last_hidden_state, axis=1)\n",
    "    predict = scipy.special.softmax(model.predict(features, verbose=0))\n",
    "    return predict[0].argmax(), predict[0]"
   ]
  },
  {
   "cell_type": "markdown",
   "id": "8f2043ad-8f1b-4c17-8f11-23487f66db5f",
   "metadata": {},
   "source": [
    "Evaluate the model on text not present in training and test data (come up with the text yourself). Try to get an input for each class."
   ]
  },
  {
   "cell_type": "code",
   "execution_count": 65,
   "id": "b27c5386-cc1b-4040-a5b7-cb8d26965fd4",
   "metadata": {},
   "outputs": [
    {
     "name": "stdout",
     "output_type": "stream",
     "text": [
      "very tasty\n",
      "4 4\n"
     ]
    }
   ],
   "source": [
    "i = 6\n",
    "text = data_frame.iloc[i]['Text']\n",
    "text = \"very tasty\"\n",
    "print(text)\n",
    "pr = classify_text(text)\n",
    "\n",
    "\n",
    "print(data_frame.iloc[i]['Label'], pr[0])"
   ]
  },
  {
   "cell_type": "markdown",
   "id": "dd49c775-eded-4a49-b7f4-9903185a7b9d",
   "metadata": {
    "jp-MarkdownHeadingCollapsed": true
   },
   "source": [
    "# Bonus"
   ]
  },
  {
   "cell_type": "markdown",
   "id": "726c617b-7110-4761-9806-975d5f84bf41",
   "metadata": {},
   "source": [
    "Write a function that computes word impact on text label. "
   ]
  },
  {
   "cell_type": "code",
   "execution_count": 62,
   "id": "01a46658-8770-4d53-94ec-b7651dbde221",
   "metadata": {},
   "outputs": [],
   "source": [
    "def get_words_impact(text: str) -> list[tuple[str, np.ndarray]]:\n",
    "    '''Determines word impact on text label.\n",
    "\n",
    "    Arguments:\n",
    "        text: Sample text to be used for computation.\n",
    "\n",
    "    Returns:\n",
    "        A list of pairs: the word and vector of probability changes for each class'''\n",
    "        \n",
    "    full_text_pr = classify_text(text)[1]\n",
    "    pr = {}\n",
    "    spl_text = text.split()\n",
    "    for i, word in enumerate(spl_text):\n",
    "        txt = ' '.join(spl_text[:i] + spl_text[i+1:])\n",
    "        pr[f'{word}'] = full_text_pr - classify_text(txt)[1]\n",
    "    return pr"
   ]
  },
  {
   "cell_type": "markdown",
   "id": "1c6dbd69-ea3c-41df-943c-16a379384b16",
   "metadata": {},
   "source": [
    "Try to find out words that make text have a specific label."
   ]
  },
  {
   "cell_type": "code",
   "execution_count": 63,
   "id": "f5bbbaf8-68f6-4aa1-af37-f29b1edae464",
   "metadata": {},
   "outputs": [
    {
     "name": "stdout",
     "output_type": "stream",
     "text": [
      "restaurant week menu not great. very small salad and three not\\nvery large scallops for main course. service barely mediocre.\\nserver never asked if we wanted coffee or  whatever for dessert. presented check without being asked for it. runners\\nhad no idea who got any of the courses. server never asked how\\nthe food was. had much better experience at previous visit.\n"
     ]
    }
   ],
   "source": [
    "i = 4\n",
    "text = data_frame.iloc[i]['Text']\n",
    "# text = \"tasty\"\n",
    "print(text)\n",
    "pr = get_words_impact(text)"
   ]
  },
  {
   "cell_type": "code",
   "execution_count": 64,
   "metadata": {},
   "outputs": [
    {
     "data": {
      "text/plain": [
       "{'restaurant': array([ 9.4865024e-02, -9.7632281e-02,  2.7672201e-03,  1.4561670e-12,\n",
       "         1.9155808e-23], dtype=float32),\n",
       " 'week': array([ 9.6229720e-01, -9.6367943e-01,  1.3821960e-03,  1.4559801e-12,\n",
       "         1.8966816e-23], dtype=float32),\n",
       " 'menu': array([ 2.5427574e-01, -2.5290555e-01, -1.3702158e-03,  1.4561642e-12,\n",
       "         1.0419266e-23], dtype=float32),\n",
       " 'not': array([-1.1032164e-02,  8.3308471e-03,  2.7013498e-03,  1.4521635e-12,\n",
       "        -4.5007885e-14], dtype=float32),\n",
       " 'great.': array([ 7.2134459e-01, -5.1994801e-01, -2.0139651e-01,  4.5716176e-13,\n",
       "        -1.0335861e-23], dtype=float32),\n",
       " 'very': array([ 3.8007283e-01, -3.8218659e-01,  2.1137015e-03, -5.4443559e-12,\n",
       "        -8.8430045e-23], dtype=float32),\n",
       " 'small': array([ 9.8255599e-01, -9.8088717e-01, -1.6687475e-03,  1.4430984e-12,\n",
       "        -9.4893788e-21], dtype=float32),\n",
       " 'salad': array([ 5.1701844e-02, -5.4400440e-02,  2.6985237e-03,  1.4561408e-12,\n",
       "        -4.6529168e-21], dtype=float32),\n",
       " 'and': array([ 1.0390043e-02,  6.1008614e-03, -1.6490879e-02,  1.4530540e-12,\n",
       "        -3.2986725e-19], dtype=float32),\n",
       " 'three': array([ 1.9391483e-01, -1.7741609e-01, -1.6498739e-02, -5.9137265e-13,\n",
       "        -2.0766003e-23], dtype=float32),\n",
       " 'not\\\\nvery': array([ 5.0842941e-01,  8.3512906e-03, -5.1678067e-01,  6.7340339e-13,\n",
       "        -6.0243974e-17], dtype=float32),\n",
       " 'large': array([ 3.3867610e-01, -2.6491040e-01, -7.3765799e-02, -5.1909865e-12,\n",
       "        -7.3989413e-17], dtype=float32),\n",
       " 'scallops': array([ 9.8554265e-01,  8.0528483e-03, -9.9359548e-01,  6.0202104e-13,\n",
       "         1.2916378e-23], dtype=float32),\n",
       " 'for': array([ 9.3709582e-01, -2.1747504e-01, -7.1962076e-01, -4.9670164e-11,\n",
       "        -4.7008062e-18], dtype=float32),\n",
       " 'main': array([-1.0340631e-02,  7.5739827e-03,  2.7667054e-03,  1.4561669e-12,\n",
       "         1.9155854e-23], dtype=float32),\n",
       " 'course.': array([ 9.4775200e-01, -8.0954623e-01, -1.3820578e-01, -6.8822795e-12,\n",
       "        -9.7765226e-22], dtype=float32),\n",
       " 'service': array([ 5.5699170e-02, -5.7603646e-02,  1.9044294e-03,  1.4561670e-12,\n",
       "        -1.2731578e-22], dtype=float32),\n",
       " 'barely': array([ 9.5788503e-01, -9.6065223e-01,  2.7671722e-03,  1.4561670e-12,\n",
       "         1.9155185e-23], dtype=float32),\n",
       " 'mediocre.\\\\nserver': array([ 9.8282963e-01,  8.3503611e-03, -9.9118000e-01,  1.3029133e-12,\n",
       "         1.9141240e-23], dtype=float32),\n",
       " 'never': array([ 9.8345798e-01, -9.8577213e-01,  2.3141622e-03,  1.4561656e-12,\n",
       "         1.8362691e-23], dtype=float32),\n",
       " 'asked': array([ 4.1429812e-01, -3.4087319e-02, -3.8021085e-01, -8.7400660e-12,\n",
       "        -1.1631156e-17], dtype=float32),\n",
       " 'if': array([ 9.8884499e-01, -9.9161196e-01,  2.7670146e-03,  1.4561448e-12,\n",
       "         1.9155804e-23], dtype=float32),\n",
       " 'we': array([ 9.8822451e-01, -6.8432695e-01, -3.0389759e-01,  1.0046917e-12,\n",
       "        -2.8712998e-21], dtype=float32),\n",
       " 'wanted': array([ 3.5927141e-01, -3.6203691e-01,  2.7655291e-03,  1.4498266e-12,\n",
       "         1.5333405e-23], dtype=float32),\n",
       " 'coffee': array([ 8.1942713e-01, -5.3074349e-02, -7.6635283e-01,  1.4061303e-12,\n",
       "        -2.4220738e-16], dtype=float32),\n",
       " 'or': array([ 4.1152316e-01, -4.1428784e-01,  2.7646716e-03,  1.4553793e-12,\n",
       "         1.8939686e-23], dtype=float32),\n",
       " 'whatever': array([ 4.4595242e-02, -4.6743903e-02,  2.1486229e-03,  1.2578695e-12,\n",
       "         1.7993733e-23], dtype=float32),\n",
       " 'dessert.': array([ 9.8885077e-01, -5.3625131e-01, -4.5259947e-01,  7.7975132e-13,\n",
       "         1.6157918e-23], dtype=float32),\n",
       " 'presented': array([ 1.6236305e-04,  6.6283210e-03, -6.7906356e-03,  1.4561668e-12,\n",
       "        -1.4936499e-20], dtype=float32),\n",
       " 'check': array([ 9.8861319e-01, -9.9121004e-01,  2.5968864e-03,  1.4561514e-12,\n",
       "        -3.5551326e-23], dtype=float32),\n",
       " 'without': array([ 9.5731288e-01, -3.2552890e-02, -9.2476004e-01,  1.4560669e-12,\n",
       "         1.6083315e-23], dtype=float32),\n",
       " 'being': array([ 9.7031409e-01, -9.6474272e-01, -5.5713640e-03,  1.4340623e-12,\n",
       "        -5.6743179e-19], dtype=float32),\n",
       " 'it.': array([ 2.0531899e-01, -1.8299554e-01, -2.2323456e-02,  1.4506446e-12,\n",
       "        -6.9735025e-21], dtype=float32),\n",
       " 'runners\\\\nhad': array([ 6.8414211e-04,  8.3554573e-03, -9.0396460e-03,  1.4561655e-12,\n",
       "        -2.7438245e-21], dtype=float32),\n",
       " 'no': array([ 1.9595027e-03, -3.7378604e-03,  1.7783060e-03,  1.4461369e-12,\n",
       "        -9.2734005e-22], dtype=float32),\n",
       " 'idea': array([-8.6941719e-03,  5.9269783e-03,  2.7671841e-03,  1.4561662e-12,\n",
       "         1.9042755e-23], dtype=float32),\n",
       " 'who': array([ 9.3773514e-01, -5.4484410e-03, -9.3228674e-01,  1.0433597e-12,\n",
       "        -9.9910574e-22], dtype=float32),\n",
       " 'got': array([ 9.3361366e-01, -9.3379754e-01,  1.8399279e-04,  1.2339483e-12,\n",
       "        -9.6220630e-21], dtype=float32),\n",
       " 'any': array([ 8.3351922e-01, -8.3463281e-01,  1.1135719e-03,  1.3947515e-12,\n",
       "         2.8147693e-24], dtype=float32),\n",
       " 'of': array([ 5.5088651e-01, -4.7330365e-01, -7.7582859e-02,  1.4113827e-12,\n",
       "        -3.6455229e-22], dtype=float32),\n",
       " 'the': array([ 3.5874206e-01, -3.4987026e-01, -8.8717844e-03,  1.4485689e-12,\n",
       "        -7.2930253e-20], dtype=float32),\n",
       " 'courses.': array([ 9.5947349e-01, -9.6158361e-01,  2.1101248e-03,  1.4561467e-12,\n",
       "        -7.0790472e-23], dtype=float32),\n",
       " 'server': array([-8.8479519e-03,  6.0812403e-03,  2.7667235e-03,  1.4561670e-12,\n",
       "         1.9139181e-23], dtype=float32),\n",
       " 'how\\\\nthe': array([ 9.190224e-01, -9.212088e-01,  2.186366e-03, -4.261395e-12,\n",
       "        -6.373774e-14], dtype=float32),\n",
       " 'food': array([ 5.6610864e-01, -1.5578139e-01, -4.1032729e-01,  1.3849866e-12,\n",
       "        -2.5197754e-17], dtype=float32),\n",
       " 'was.': array([ 9.8887539e-01, -9.9164271e-01,  2.7672588e-03,  1.4561670e-12,\n",
       "         1.9155688e-23], dtype=float32),\n",
       " 'had': array([ 2.1655560e-03,  5.3589046e-03, -7.5244163e-03,  2.3842690e-14,\n",
       "        -8.0250995e-19], dtype=float32),\n",
       " 'much': array([ 1.5263200e-02, -1.7996985e-02,  2.7337747e-03,  1.4561668e-12,\n",
       "         1.9094539e-23], dtype=float32),\n",
       " 'better': array([ 7.9757828e-01, -8.0034506e-01,  2.7667941e-03,  1.4547322e-12,\n",
       "        -1.6926333e-23], dtype=float32),\n",
       " 'experience': array([ 9.8403090e-01, -1.1085330e-01, -8.7283403e-01, -3.4356466e-04,\n",
       "        -8.9638312e-15], dtype=float32),\n",
       " 'at': array([ 9.8288327e-01, -7.4207455e-01, -2.4080878e-01, -2.5102207e-11,\n",
       "        -5.1522545e-18], dtype=float32),\n",
       " 'previous': array([ 9.8878193e-01,  8.2957866e-03, -9.9707764e-01,  1.4483395e-12,\n",
       "        -9.6533593e-20], dtype=float32),\n",
       " 'visit.': array([ 6.9288015e-01, -6.9564480e-01,  2.7646581e-03,  1.4556339e-12,\n",
       "        -5.6179619e-23], dtype=float32)}"
      ]
     },
     "execution_count": 64,
     "metadata": {},
     "output_type": "execute_result"
    }
   ],
   "source": [
    "pr"
   ]
  },
  {
   "cell_type": "code",
   "execution_count": 46,
   "metadata": {},
   "outputs": [
    {
     "data": {
      "text/plain": [
       "[1, 2, 3, 2, 3, 4]"
      ]
     },
     "execution_count": 46,
     "metadata": {},
     "output_type": "execute_result"
    }
   ],
   "source": [
    "a = [1, 2, 3]\n",
    "b = [2 , 3, 4]\n",
    "a + b"
   ]
  }
 ],
 "metadata": {
  "kernelspec": {
   "display_name": "Python 3 (ipykernel)",
   "language": "python",
   "name": "python3"
  },
  "language_info": {
   "codemirror_mode": {
    "name": "ipython",
    "version": 3
   },
   "file_extension": ".py",
   "mimetype": "text/x-python",
   "name": "python",
   "nbconvert_exporter": "python",
   "pygments_lexer": "ipython3",
   "version": "3.11.1"
  }
 },
 "nbformat": 4,
 "nbformat_minor": 5
}
